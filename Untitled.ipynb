{
 "cells": [
  {
   "cell_type": "code",
   "execution_count": 2,
   "id": "db1bcbcb",
   "metadata": {},
   "outputs": [
    {
     "name": "stdout",
     "output_type": "stream",
     "text": [
      "Collecting ollama\n",
      "  Downloading ollama-0.2.1-py3-none-any.whl.metadata (4.2 kB)\n",
      "Collecting httpx<0.28.0,>=0.27.0 (from ollama)\n",
      "  Downloading httpx-0.27.0-py3-none-any.whl.metadata (7.2 kB)\n",
      "Requirement already satisfied: anyio in c:\\users\\mnikesh\\anaconda3\\lib\\site-packages (from httpx<0.28.0,>=0.27.0->ollama) (3.7.1)\n",
      "Requirement already satisfied: certifi in c:\\users\\mnikesh\\anaconda3\\lib\\site-packages (from httpx<0.28.0,>=0.27.0->ollama) (2022.9.14)\n",
      "Collecting httpcore==1.* (from httpx<0.28.0,>=0.27.0->ollama)\n",
      "  Downloading httpcore-1.0.5-py3-none-any.whl.metadata (20 kB)\n",
      "Requirement already satisfied: idna in c:\\users\\mnikesh\\anaconda3\\lib\\site-packages (from httpx<0.28.0,>=0.27.0->ollama) (2.8)\n",
      "Requirement already satisfied: sniffio in c:\\users\\mnikesh\\anaconda3\\lib\\site-packages (from httpx<0.28.0,>=0.27.0->ollama) (1.3.0)\n",
      "Requirement already satisfied: h11<0.15,>=0.13 in c:\\users\\mnikesh\\anaconda3\\lib\\site-packages (from httpcore==1.*->httpx<0.28.0,>=0.27.0->ollama) (0.14.0)\n",
      "Requirement already satisfied: exceptiongroup in c:\\users\\mnikesh\\anaconda3\\lib\\site-packages (from anyio->httpx<0.28.0,>=0.27.0->ollama) (1.1.3)\n",
      "Downloading ollama-0.2.1-py3-none-any.whl (9.7 kB)\n",
      "Downloading httpx-0.27.0-py3-none-any.whl (75 kB)\n",
      "   ---------------------------------------- 75.6/75.6 kB 7.7 kB/s eta 0:00:00\n",
      "Downloading httpcore-1.0.5-py3-none-any.whl (77 kB)\n",
      "   ---------------------------------------- 77.9/77.9 kB 63.7 kB/s eta 0:00:00\n",
      "Installing collected packages: httpcore, httpx, ollama\n",
      "  Attempting uninstall: httpcore\n",
      "    Found existing installation: httpcore 0.18.0\n",
      "    Uninstalling httpcore-0.18.0:\n",
      "      Successfully uninstalled httpcore-0.18.0\n",
      "  Attempting uninstall: httpx\n",
      "    Found existing installation: httpx 0.25.0\n",
      "    Uninstalling httpx-0.25.0:\n",
      "      Successfully uninstalled httpx-0.25.0\n",
      "Successfully installed httpcore-1.0.5 httpx-0.27.0 ollama-0.2.1\n"
     ]
    }
   ],
   "source": [
    "!pip install ollama"
   ]
  },
  {
   "cell_type": "code",
   "execution_count": 7,
   "id": "d95d763e",
   "metadata": {
    "scrolled": true
   },
   "outputs": [
    {
     "name": "stdout",
     "output_type": "stream",
     "text": [
      "{'model': 'phi3', 'created_at': '2024-07-15T09:43:55.9706458Z', 'response': ' Yes, I\\'m familiar with it. \"Claude\" is a name that can be associated with various entities in the entertainment and gaming industry across different timelines; however, there isn\\'t one universally recognized entity called \"Claude\". Nonetheless, if we were to assume you are referring to Claude from video games or media, I would need more context as this could apply to many fictional characters.\\n\\nThat said, assuming that by \\'Claude 3\\', it refers to a sequel of sorts in the entertainment industry such as films, TV shows, music albums, and especially gaming (as Claude is not typically associated with games), there isn\\'t exactly one entity named \"Claude 3\". Yet for educational purposes, let’s imagine this situation.\\n\\nIn our hypothetical scenario where a character or product called \\'Claude 3\\' exists in the world of entertainment and gaming (as these industries often follow sequels), here is how it might be described:\\n\\n**Background Information About Claude 3:**\\n\\n*Title & Genre/Type of Content:* Assuming that \"Claude\" refers to a character or franchise, let\\'s say the title \\'Claude 3\\' would represent an extension in either video game series, animated film trilogy, music album collection by a band named Claude (if such existed), etc. For our purposes here we will consider it as part of a hypothetical third installment of a popular computer-generated imagery cartoon called \"Claude.\"\\n\\n*Developer/Creator:* Since the name doesn\\'t match any specific known video game or movie, for this fictitious example let’s assume that \\'Claude 3\\' was developed by an upcoming indie studio named Pixelex Studios. They have been creating unique and visually appealing content in various forms of media including films (animated) as well as games on multiple platforms such as PC, PlayStation, Xbox & Nintendo Switch consoles\\n\\n*Plot/Storyline:* In this imaginative \\'Claude 3\\', our beloved character Claude embarks upon a journey to discover the secrets of his world. He learns that there\\'s more than meets the eye and begins exploring different cultures, cuisines, languages – anything unfamiliar which helps him understand himself better while appreciating diversity in an increasingly interconnected global village\\n\\n*Visual Style & Gameplay Mechanics:* With inspiration drawn from classic French comedies like \"Asterix\" and contemporary CGI films such as \\'Zootopia\\', the visual style of Claude 3 would be a blend, using traditional cartoon animations alongside modern-day stylistic elements. The game could incorporate puzzle-solving mechanics with stealth aspects; players navigate through different cultures while keeping secrets safe from being revealed and engaging in light-hearted humorous dialogues\\n\\n*Character Development & Voice Acting:* As the series progresses, Claude evolves as a character – learning important life skills such as empathy, respect for others\\' customs etc. The voice acting would be central to this narrative and given by talented French actors like Gad Elmaleh or Michel Vuillermoz who were famous in France but might not have been mainstream internationally\\n\\n*Soundtrack & Music:* Since Claude is a comedic character, the music score could consist of uptempo jazz blended with light-hearted pop/rock numbers. The composer for this hypothetical \\'Claude 3\\' would be someone like Ludovic Mantey or Gérard Salesses\\n\\nIn summary, assuming Claude is a franchise in entertainment and gaming industry (which currently doesn’t hold true), the third installment could potentially provide players with an exciting journey through different cultures while promoting valuable life lessons. However, it\\'s important to note that this scenario remains purely speculative since \\'Claude 3\\' as such does not exist in reality.', 'done': True, 'done_reason': 'stop', 'context': [32010, 1938, 366, 1073, 1048, 19108, 29871, 29941, 29973, 32007, 32001, 3869, 29892, 306, 29915, 29885, 9985, 411, 372, 29889, 376, 20216, 1151, 29908, 338, 263, 1024, 393, 508, 367, 6942, 411, 5164, 16212, 297, 278, 22684, 358, 322, 330, 11500, 13661, 4822, 1422, 5335, 24210, 29936, 3138, 29892, 727, 3508, 29915, 29873, 697, 4946, 635, 14831, 7855, 2000, 376, 20216, 1151, 1642, 10050, 621, 6393, 29892, 565, 591, 892, 304, 5251, 366, 526, 16811, 304, 19108, 515, 4863, 8090, 470, 5745, 29892, 306, 723, 817, 901, 3030, 408, 445, 1033, 3394, 304, 1784, 26797, 1848, 4890, 29889, 13, 13, 7058, 1497, 29892, 10241, 393, 491, 525, 20216, 1151, 29871, 29941, 742, 372, 14637, 304, 263, 8617, 295, 310, 23551, 297, 278, 22684, 358, 13661, 1316, 408, 12298, 29892, 5648, 3697, 29892, 4696, 20618, 29892, 322, 7148, 330, 11500, 313, 294, 19108, 338, 451, 12234, 6942, 411, 8090, 511, 727, 3508, 29915, 29873, 3721, 697, 7855, 4257, 376, 20216, 1151, 29871, 29941, 1642, 15175, 363, 28976, 11976, 29892, 1235, 30010, 29879, 14034, 445, 6434, 29889, 13, 13, 797, 1749, 13752, 300, 936, 10483, 988, 263, 2931, 470, 3234, 2000, 525, 20216, 1151, 29871, 29941, 29915, 4864, 297, 278, 3186, 310, 22684, 358, 322, 330, 11500, 313, 294, 1438, 6397, 2722, 4049, 1101, 8617, 1379, 511, 1244, 338, 920, 372, 1795, 367, 5439, 29901, 13, 13, 1068, 10581, 10343, 13611, 19108, 29871, 29941, 29901, 1068, 13, 13, 29930, 7030, 669, 5739, 276, 29914, 1542, 310, 10576, 29901, 29930, 17090, 393, 376, 20216, 1151, 29908, 14637, 304, 263, 2931, 470, 23272, 895, 29892, 1235, 29915, 29879, 1827, 278, 3611, 525, 20216, 1151, 29871, 29941, 29915, 723, 2755, 385, 6081, 297, 2845, 4863, 3748, 3652, 29892, 17524, 2706, 534, 309, 6933, 29892, 4696, 3769, 4333, 491, 263, 3719, 4257, 19108, 313, 361, 1316, 22856, 511, 2992, 29889, 1152, 1749, 11976, 1244, 591, 674, 2050, 372, 408, 760, 310, 263, 13752, 300, 936, 4654, 2601, 358, 310, 263, 5972, 6601, 29899, 13525, 6382, 708, 7774, 6150, 2000, 376, 20216, 1151, 1213, 13, 13, 29930, 21956, 261, 29914, 9832, 1061, 29901, 29930, 4001, 278, 1024, 1838, 29915, 29873, 1993, 738, 2702, 2998, 4863, 3748, 470, 14064, 29892, 363, 445, 26797, 277, 2738, 1342, 1235, 30010, 29879, 5251, 393, 525, 20216, 1151, 29871, 29941, 29915, 471, 8906, 491, 385, 701, 11506, 1399, 347, 8693, 4257, 349, 861, 29872, 2506, 23268, 29889, 2688, 505, 1063, 4969, 5412, 322, 1998, 1474, 5929, 12818, 2793, 297, 5164, 7190, 310, 5745, 3704, 12298, 313, 11576, 630, 29897, 408, 1532, 408, 8090, 373, 2999, 21796, 1316, 408, 9609, 29892, 7412, 22814, 29892, 1060, 1884, 669, 405, 28481, 28176, 1136, 6544, 13, 13, 29930, 20867, 29914, 29359, 1220, 29901, 29930, 512, 445, 6382, 262, 1230, 525, 20216, 1151, 29871, 29941, 742, 1749, 1339, 8238, 2931, 19108, 7232, 17862, 2501, 263, 16342, 304, 6523, 278, 22183, 1372, 310, 670, 3186, 29889, 940, 24298, 1983, 393, 727, 29915, 29879, 901, 1135, 28103, 278, 10977, 322, 16410, 3902, 8253, 1422, 4185, 1973, 29892, 2723, 275, 1475, 29892, 10276, 785, 3099, 443, 8302, 4447, 607, 6911, 1075, 2274, 3654, 2253, 1550, 5108, 1218, 6894, 537, 297, 385, 10231, 368, 1006, 18045, 5534, 5720, 13, 13, 29930, 16227, 22135, 669, 8448, 1456, 27439, 1199, 29901, 29930, 2973, 8681, 12232, 12061, 515, 22037, 5176, 419, 287, 583, 763, 376, 29909, 2475, 861, 29908, 322, 24952, 8446, 29902, 12298, 1316, 408, 525, 29999, 3155, 459, 423, 742, 278, 7604, 3114, 310, 19108, 29871, 29941, 723, 367, 263, 1999, 355, 29892, 773, 13807, 7774, 6150, 3778, 800, 19963, 5400, 29899, 3250, 15877, 1761, 293, 3161, 29889, 450, 3748, 1033, 11039, 403, 20285, 280, 29899, 2929, 1747, 7208, 1199, 411, 1886, 4298, 21420, 29936, 10769, 23624, 1549, 1422, 4185, 1973, 1550, 12515, 22183, 1372, 9109, 515, 1641, 17845, 322, 3033, 6751, 297, 3578, 29899, 23057, 287, 3165, 20657, 7928, 1041, 13, 13, 29930, 20755, 14650, 669, 4785, 625, 3185, 292, 29901, 29930, 1094, 278, 3652, 6728, 267, 29892, 19108, 15220, 1960, 408, 263, 2931, 785, 6509, 4100, 2834, 25078, 1316, 408, 953, 2084, 29891, 29892, 3390, 363, 4045, 29915, 2888, 29879, 2992, 29889, 450, 7314, 16684, 723, 367, 6555, 304, 445, 15474, 1230, 322, 2183, 491, 5969, 14927, 5176, 29701, 763, 402, 328, 1260, 19202, 29882, 470, 12255, 478, 29884, 453, 837, 2112, 1058, 892, 13834, 297, 3444, 541, 1795, 451, 505, 1063, 1667, 5461, 2836, 362, 635, 13, 13, 29930, 29456, 11294, 669, 6125, 29901, 29930, 4001, 19108, 338, 263, 419, 7486, 2931, 29892, 278, 4696, 8158, 1033, 5718, 310, 318, 415, 331, 1129, 21230, 1999, 2760, 411, 3578, 29899, 23057, 287, 1835, 29914, 20821, 3694, 29889, 450, 18422, 363, 445, 13752, 300, 936, 525, 20216, 1151, 29871, 29941, 29915, 723, 367, 4856, 763, 8591, 586, 293, 341, 1647, 29891, 470, 402, 1064, 538, 3956, 15322, 13, 13, 797, 15837, 29892, 10241, 19108, 338, 263, 23272, 895, 297, 22684, 358, 322, 330, 11500, 13661, 313, 4716, 5279, 1838, 30010, 29873, 4808, 1565, 511, 278, 4654, 2601, 358, 1033, 19998, 3867, 10769, 411, 385, 5566, 11407, 16342, 1549, 1422, 4185, 1973, 1550, 2504, 11427, 21114, 2834, 3109, 787, 29889, 2398, 29892, 372, 29915, 29879, 4100, 304, 4443, 393, 445, 10483, 9242, 24837, 1580, 28524, 1951, 525, 20216, 1151, 29871, 29941, 29915, 408, 1316, 947, 451, 1863, 297, 16832, 29889], 'total_duration': 288264102200, 'load_duration': 3102049200, 'prompt_eval_count': 11, 'prompt_eval_duration': 1212075000, 'eval_count': 868, 'eval_duration': 283940979000}\n"
     ]
    }
   ],
   "source": [
    "import ollama\n",
    "\n",
    "LLM = \"phi3\"\n",
    "\n",
    "response = ollama.generate(model=LLM, prompt=\"Do you know about Claude 3?\")\n",
    "\n",
    "\n"
   ]
  },
  {
   "cell_type": "code",
   "execution_count": 13,
   "id": "cf4d1020",
   "metadata": {},
   "outputs": [
    {
     "name": "stdout",
     "output_type": "stream",
     "text": [
      "2024-07-15 16:03:58 - Created default config file at C:\\Users\\mnikesh\\GenAI\\OllamaDev\\.chainlit\\config.toml\n",
      "2024-07-15 16:03:58 - Created default translation directory at C:\\Users\\mnikesh\\GenAI\\OllamaDev\\.chainlit\\translations\n",
      "2024-07-15 16:03:58 - Created default translation file at C:\\Users\\mnikesh\\GenAI\\OllamaDev\\.chainlit\\translations\\en-US.json\n"
     ]
    }
   ],
   "source": [
    "import chainlit as cl\n",
    "\n",
    "\n",
    "@cl.step(type=\"tool\")\n",
    "async def tool():\n",
    "    # Fake tool\n",
    "    await cl.sleep(2)\n",
    "    return \"Response from the tool!\"\n",
    "\n",
    "\n",
    "@cl.on_message  # this function will be called every time a user inputs a message in the UI\n",
    "async def main(message: cl.Message):\n",
    "    \"\"\"\n",
    "    This function is called every time a user inputs a message in the UI.\n",
    "    It sends back an intermediate response from the tool, followed by the final answer.\n",
    "\n",
    "    Args:\n",
    "        message: The user's message.\n",
    "\n",
    "    Returns:\n",
    "        None.\n",
    "    \"\"\"\n",
    "\n",
    "    final_answer = await cl.Message(content=\"\").send()\n",
    "\n",
    "    # Call the tool\n",
    "    final_answer.content = await tool()\n",
    "\n",
    "    await final_answer.update()"
   ]
  },
  {
   "cell_type": "code",
   "execution_count": null,
   "id": "e071b92e",
   "metadata": {},
   "outputs": [],
   "source": []
  }
 ],
 "metadata": {
  "kernelspec": {
   "display_name": "Python 3 (ipykernel)",
   "language": "python",
   "name": "python3"
  },
  "language_info": {
   "codemirror_mode": {
    "name": "ipython",
    "version": 3
   },
   "file_extension": ".py",
   "mimetype": "text/x-python",
   "name": "python",
   "nbconvert_exporter": "python",
   "pygments_lexer": "ipython3",
   "version": "3.9.13"
  }
 },
 "nbformat": 4,
 "nbformat_minor": 5
}
